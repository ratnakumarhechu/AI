{
 "cells": [
  {
   "cell_type": "code",
   "execution_count": 40,
   "metadata": {},
   "outputs": [
    {
     "name": "stdout",
     "output_type": "stream",
     "text": [
      "List/String or any iterable element cannot be empty\n",
      "6\n",
      "-4\n",
      "0.16666666666666666\n"
     ]
    }
   ],
   "source": [
    "'''\n",
    "1.1 Program to implement own my_reduce function which works exactly\n",
    "    like python's built in reduce() function\n",
    "\n",
    "'''\n",
    "def my_reduce(lamda_func, list_values):\n",
    "    if len(list_values) == 0:\n",
    "        return \"List/String or any iterable element cannot be empty\"\n",
    "    else: \n",
    "        result = list_values[0]\n",
    "        for i in range(1, len(list_values)):\n",
    "            result = lamda_func(result, list_values[i])\n",
    "        return result\n",
    "\n",
    "#Calling the function with different inputs\n",
    "\n",
    "l1= []\n",
    "l2= [1,2,3]\n",
    "\n",
    "print(my_reduce(lambda x,y:x+y,l1))\n",
    "print(my_reduce(lambda x,y:x+y,l2))\n",
    "print(my_reduce(lambda x,y:x-y,l2))\n",
    "print(my_reduce(lambda x,y:x/y,l2))"
   ]
  },
  {
   "cell_type": "code",
   "execution_count": 24,
   "metadata": {},
   "outputs": [
    {
     "name": "stdout",
     "output_type": "stream",
     "text": [
      "List/String or any iterable element cannot be empty\n",
      "[2, 4, 6, 8]\n",
      "[2, 4, 6, 8]\n",
      "[2, 4, 6, 8]\n"
     ]
    }
   ],
   "source": [
    "'''\n",
    "1.2 Program to implement own my_filter function which works exactly\n",
    "    like python's built in filter() function\n",
    "\n",
    "'''\n",
    "def my_filter(func, list_values):\n",
    "    filter_list = []\n",
    "    if len(list_values) == 0:\n",
    "        return \"List/String or any iterable element cannot be empty\"\n",
    "    else: \n",
    "        result = list_values[0]\n",
    "        for i in range(1, len(list_values)):\n",
    "            result = func(list_values[i])\n",
    "            if(result):\n",
    "                filter_list.append(list_values[i])\n",
    "        return filter_list\n",
    "\n",
    "def even_check(num):\n",
    "        if num%2 ==0:\n",
    "            return True\n",
    "        else:\n",
    "            return False\n",
    "\n",
    "#Calling the function with different inputs\n",
    "\n",
    "l1= []\n",
    "l2= [1,2,3,4,5,6,7,8]\n",
    "\n",
    "print(my_filter(even_check,l1))\n",
    "print(my_filter(even_check,l2))  "
   ]
  },
  {
   "cell_type": "code",
   "execution_count": 44,
   "metadata": {},
   "outputs": [
    {
     "name": "stdout",
     "output_type": "stream",
     "text": [
      "['x', 'xx', 'xxx', 'xxxx', 'y', 'yy', 'yyy', 'yyyy', 'z', 'zz', 'zzz', 'zzzz']\n",
      "['x', 'y', 'z', 'xx', 'yy', 'zz', 'xxx', 'yyy', 'zzz', 'xxxx', 'yyyy', 'zzzz']\n",
      "[[2], [3], [4], [3], [4], [5], [4], [5], [6]]\n",
      "[[2, 3, 4, 5], [3, 4, 5, 6], [4, 5, 6, 7], [5, 6, 7, 8]]\n",
      "[(1, 1), (2, 1), (3, 1), (1, 2), (2, 2), (3, 2), (1, 3), (2, 3), (3, 3)]\n"
     ]
    }
   ],
   "source": [
    "'''\n",
    "2. Program to generate lists using list comprehension\n",
    "\n",
    "['x', 'xx', 'xxx', 'xxxx', 'y', 'yy', 'yyy', 'yyyy', 'z', 'zz', 'zzz', 'zzzz']\n",
    "['x', 'y', 'z', 'xx', 'yy', 'zz', 'xxx', 'yyy', 'zzz', 'xxxx', 'yyyy', 'zzzz']\n",
    "[[2], [3], [4], [3], [4], [5], [4], [5], [6]]\n",
    "[[2, 3, 4, 5], [3, 4, 5, 6], [4, 5, 6, 7], [5, 6, 7, 8]]\n",
    "[(1, 1), (2, 1), (3, 1), (1, 2), (2, 2), (3, 2), (1, 3), (2, 3), (3, 3)]\n",
    "\n",
    "'''\n",
    "\n",
    "list1 = ['x','y','z']\n",
    "result = [ val*num for val in list1 for num in range(1,5)]\n",
    "print(str(result))\n",
    "\n",
    "\n",
    "result = [ val*num  for num in range(1,5) for val in list1]\n",
    "print(str(result))\n",
    "\n",
    "\n",
    "list2 = [2,3,4]\n",
    "result = [ [val+num] for val in list2 for num in range(0,3)]\n",
    "print(str(result))\n",
    "\n",
    "\n",
    "list3 = [2,3,4,5]\n",
    "result = [ [val+num for val in list3] for num in range(0,4)]\n",
    "print(str(result))\n",
    "\n",
    "\n",
    "input_list=[1,2,3]\n",
    "result = [ (i,j) for j in input_list for i in input_list]\n",
    "print(str(result))\n",
    "\n"
   ]
  }
 ],
 "metadata": {
  "kernelspec": {
   "display_name": "Python 3",
   "language": "python",
   "name": "python3"
  },
  "language_info": {
   "codemirror_mode": {
    "name": "ipython",
    "version": 3
   },
   "file_extension": ".py",
   "mimetype": "text/x-python",
   "name": "python",
   "nbconvert_exporter": "python",
   "pygments_lexer": "ipython3",
   "version": "3.7.6"
  }
 },
 "nbformat": 4,
 "nbformat_minor": 4
}
