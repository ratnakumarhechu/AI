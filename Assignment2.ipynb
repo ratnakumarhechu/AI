{
 "cells": [
  {
   "cell_type": "code",
   "execution_count": 23,
   "metadata": {},
   "outputs": [
    {
     "name": "stdout",
     "output_type": "stream",
     "text": [
      "* \n",
      "* * \n",
      "* * * \n",
      "* * * * \n",
      "* * * * * \n",
      "* * * * \n",
      "* * * \n",
      "* * \n",
      "* \n"
     ]
    }
   ],
   "source": [
    "'''\n",
    "1. Program to print the pattern using nested for loop\n",
    "*\n",
    "* *\n",
    "* * *\n",
    "* * * *\n",
    "* * * * *\n",
    "* * * *\n",
    "* * *\n",
    "* *\n",
    "*\n",
    "'''\n",
    "n= 5\n",
    "for i in range(n):            # Loop to run 5 times\n",
    "    for j in range(i+1):\n",
    "        print('*',sep=' ',end=' ')\n",
    "    print(end='\\n')           # To make cursor go to next line after inner loop completes\n",
    "    \n",
    "for i in range(n-1,0,-1):     \n",
    "    for j in range(i):\n",
    "        print('*',sep=' ',end=' ')\n",
    "    print(end='\\n')\n"
   ]
  },
  {
   "cell_type": "code",
   "execution_count": 24,
   "metadata": {},
   "outputs": [
    {
     "name": "stdout",
     "output_type": "stream",
     "text": [
      "Please enter a word :Hello\n",
      "Reverse of entered word is : olleH\n"
     ]
    }
   ],
   "source": [
    "'''\n",
    "2. Program to reverse a word after accepting the input from the user\n",
    "    input: Hello\n",
    "    output: olleH\n",
    "'''\n",
    "\n",
    "user_input = input(\"Please enter a word :\")\n",
    "str_len = len(user_input)\n",
    "print(\"Reverse of entered word is : \" +user_input[str_len-1::-1])"
   ]
  }
 ],
 "metadata": {
  "kernelspec": {
   "display_name": "Python 3",
   "language": "python",
   "name": "python3"
  },
  "language_info": {
   "codemirror_mode": {
    "name": "ipython",
    "version": 3
   },
   "file_extension": ".py",
   "mimetype": "text/x-python",
   "name": "python",
   "nbconvert_exporter": "python",
   "pygments_lexer": "ipython3",
   "version": "3.7.6"
  }
 },
 "nbformat": 4,
 "nbformat_minor": 4
}
